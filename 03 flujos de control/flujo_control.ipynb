{
 "cells": [
  {
   "cell_type": "code",
   "execution_count": null,
   "metadata": {},
   "outputs": [],
   "source": []
  }
 ],
 "metadata": {
  "kernelspec": {
   "display_name": "Python 3",
   "language": "python",
   "name": "python3"
  },
  "language_info": {
   "name": "python",
   "version": "3.10.9"
  },
  "orig_nbformat": 4,
  "vscode": {
   "interpreter": {
    "hash": "385934073599993ed47e15d3509d21a341d1d07b9a7c3f5ad58bae80eb79e31d"
   }
  }
 },
 "nbformat": 4,
 "nbformat_minor": 2
}
