{
 "cells": [
  {
   "cell_type": "code",
   "execution_count": null,
   "metadata": {},
   "outputs": [],
   "source": [
    "# Flujos de Control\n",
    "\n",
    "# 1) Crear una variable que contenga un elemento del conjunto de números enteros y luego imprimir por pantalla si es mayor o menor a cero\n",
    "numero = 5\n",
    "if numero > 0:\n",
    "    print(\"El número es mayor que cero\")\n",
    "elif numero < 0:\n",
    "    print(\"El número es menor que cero\")\n",
    "else:\n",
    "    print(\"El número es igual a cero\")"
   ]
  }
 ],
 "metadata": {
  "kernelspec": {
   "display_name": "Python 3",
   "language": "python",
   "name": "python3"
  },
  "language_info": {
   "name": "python",
   "version": "3.10.9"
  },
  "orig_nbformat": 4,
  "vscode": {
   "interpreter": {
    "hash": "385934073599993ed47e15d3509d21a341d1d07b9a7c3f5ad58bae80eb79e31d"
   }
  }
 },
 "nbformat": 4,
 "nbformat_minor": 2
}
